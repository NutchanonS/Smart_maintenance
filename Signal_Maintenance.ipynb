{
  "cells": [
    {
      "cell_type": "code",
      "execution_count": null,
      "metadata": {
        "colab": {
          "base_uri": "https://localhost:8080/"
        },
        "id": "lr9ZY9_8kRuD",
        "outputId": "f4b56970-1316-40fe-f293-0155e447df29"
      },
      "outputs": [],
      "source": [
        "from google.colab import drive\n",
        "drive.mount('/content/drive')"
      ]
    },
    {
      "cell_type": "markdown",
      "metadata": {
        "id": "r2jTWDZ1vKGE"
      },
      "source": [
        "# Preprocessing (fast fourier transform)"
      ]
    },
    {
      "cell_type": "code",
      "execution_count": null,
      "metadata": {
        "id": "Kgtovhrgtqrm"
      },
      "outputs": [],
      "source": [
        "import pandas as pd\n",
        "import matplotlib.pyplot as plt\n",
        "import numpy as np\n",
        "import os"
      ]
    },
    {
      "cell_type": "code",
      "execution_count": null,
      "metadata": {
        "colab": {
          "base_uri": "https://localhost:8080/",
          "height": 423
        },
        "id": "dsbYHeA4t21U",
        "outputId": "e2c6bb09-1f47-42ee-d800-47bc908413ec"
      },
      "outputs": [],
      "source": [
        "# raw_data = pd.read_csv(\"/content/drive/MyDrive/maintain/train_data1200/train_data1.csv\",header=None)\n",
        "import glob\n",
        "path = '/content/drive/MyDrive/maintain/train_data600/'\n",
        "labelss = pd.read_csv('/content/drive/MyDrive/label.csv',header = None)\n",
        "labelss\n",
        "# list_files = [os.path.basename(i) for i in glob.glob(path600+'*.csv', recursive = True)]"
      ]
    },
    {
      "cell_type": "markdown",
      "metadata": {
        "id": "eslaUUZhYFdr"
      },
      "source": [
        "## Try preprocess"
      ]
    },
    {
      "cell_type": "code",
      "execution_count": null,
      "metadata": {
        "id": "JCEYZtnqoaV_"
      },
      "outputs": [],
      "source": [
        "# from imblearn.under_sampling import ClusterCentroids\n",
        "# cc = ClusterCentroids(random_state=0)\n",
        "# X_resampled, y_resampled = cc.fit_resample(X, y)"
      ]
    },
    {
      "cell_type": "code",
      "execution_count": null,
      "metadata": {
        "colab": {
          "base_uri": "https://localhost:8080/",
          "height": 423
        },
        "id": "Zp6g1nsOvgbt",
        "outputId": "9df3e1ea-35c2-467f-9dce-54ee433162bc"
      },
      "outputs": [],
      "source": [
        "d = pd.read_csv(path+'train_data29000.csv',header=None)\n",
        "d"
      ]
    },
    {
      "cell_type": "code",
      "execution_count": null,
      "metadata": {
        "colab": {
          "base_uri": "https://localhost:8080/"
        },
        "id": "W98_XcFq2gHI",
        "outputId": "65b869b8-6ffe-4b2b-d445-95a60548f4c1"
      },
      "outputs": [],
      "source": [
        "a=np.stack((np.array(d[0]),np.array(d[1]),np.array(d[2])))\n",
        "a=np.transpose(a,[1,0])\n",
        "a.shape"
      ]
    },
    {
      "cell_type": "code",
      "execution_count": null,
      "metadata": {
        "colab": {
          "base_uri": "https://localhost:8080/"
        },
        "id": "xlioAumj2pFB",
        "outputId": "02cf3d26-1032-4b34-8929-4687a06a9c77"
      },
      "outputs": [],
      "source": [
        "len(a[0])"
      ]
    },
    {
      "cell_type": "code",
      "execution_count": null,
      "metadata": {
        "id": "s8I9FSWqqXdx"
      },
      "outputs": [],
      "source": [
        "import numpy as np\n",
        "from numpy.fft import fft, ifft, fftfreq\n",
        "from scipy import signal\n",
        "from scipy.signal import find_peaks"
      ]
    },
    {
      "cell_type": "code",
      "execution_count": null,
      "metadata": {
        "colab": {
          "base_uri": "https://localhost:8080/",
          "height": 351
        },
        "id": "dp25ydxKTRbf",
        "outputId": "e85f0b7b-bc4d-444e-f3a3-59062f0d0ebe"
      },
      "outputs": [],
      "source": [
        "plt.figure(figsize=(10, 5))\n",
        "plt.plot(d[0])\n",
        "plt.xlabel('time (s)')\n",
        "plt.ylabel('m/s^2')"
      ]
    },
    {
      "cell_type": "code",
      "execution_count": null,
      "metadata": {
        "colab": {
          "base_uri": "https://localhost:8080/",
          "height": 497
        },
        "id": "OLfOEqlotfTV",
        "outputId": "d64967a3-3445-4021-cb29-b7d4dbfc1e94"
      },
      "outputs": [],
      "source": [
        "plt.figure(figsize=(10, 8));\n",
        "for i in range(3):\n",
        "  plt.subplot(3, 1, i+1)\n",
        "  plt.plot(d[i])\n",
        "  plt.xlabel('time (s)')\n",
        "  plt.ylabel('m/s^2')\n",
        "plt.show()"
      ]
    },
    {
      "cell_type": "code",
      "execution_count": null,
      "metadata": {
        "colab": {
          "base_uri": "https://localhost:8080/"
        },
        "id": "CkoA1MmDhF2V",
        "outputId": "ba5b49e9-b47b-4a8b-e169-120e16fee589"
      },
      "outputs": [],
      "source": [
        "sr = 51200\n",
        "# sampling interval\n",
        "ts = 1.0/sr\n",
        "N=12500\n",
        "ts*N"
      ]
    },
    {
      "cell_type": "code",
      "execution_count": null,
      "metadata": {
        "colab": {
          "base_uri": "https://localhost:8080/",
          "height": 412
        },
        "id": "j77d88u8CKdF",
        "outputId": "a7e641f0-e38b-45db-facc-8d864846b3af"
      },
      "outputs": [],
      "source": [
        "# sampling rate\n",
        "sr = 51200\n",
        "# sampling interval\n",
        "ts = 1.0/sr\n",
        "# t = np.arange(0,1,ts)\n",
        "#data\n",
        "# x = bandpasskub(d[0] , d[1]  , d[2])[0]\n",
        "x=d[0]\n",
        "X = fft(x)\n",
        "N = len(X)\n",
        "freq = fftfreq(N, 1 / sr)\n",
        "# n = np.arange(N)\n",
        "# T = N/sr\n",
        "# freq = n/T \n",
        "plt.figure(figsize = (12, 6))\n",
        "plt.subplot(4,1,1)\n",
        "plt.plot(freq , np.abs(X))\n",
        "plt.title('fft_plot')\n",
        "# plt.xlim(0, 200)\n",
        "# plt.ylim(0,200)\n",
        "\n",
        "plt.subplot(4,1,2)\n",
        "n = len(x)\n",
        "fhat = np.fft.fft(x, n) #computes the fft\n",
        "psd = fhat * np.conj(fhat)/n\n",
        "freq2 = (1/(ts*n)) * np.arange(n)\n",
        "plt.plot(freq2 ,psd)\n",
        "# plt.xlim(0, 200)\n",
        "# plt.ylim(0,10)\n",
        "\n",
        "plt.subplot(4,1,3)\n",
        "X2 = fft(signal.resample(x, 1000))\n",
        "freq3 = fftfreq(len(X2), 1 / 1000)\n",
        "plt.plot(freq3 ,X2)\n",
        "plt.xlim(0, 200)"
      ]
    },
    {
      "cell_type": "code",
      "execution_count": null,
      "metadata": {
        "id": "ZpoXfCkSrgMJ"
      },
      "outputs": [],
      "source": [
        "from scipy.signal import butter, lfilter\n",
        "from scipy.signal import freqs\n",
        "import numpy as np\n",
        "from numpy.fft import fft, ifft, fftfreq , irfft , rfft\n",
        "from scipy import signal\n",
        "from scipy.signal import find_peaks\n",
        "def butter_lowpass(cutoff, fs, order):\n",
        "    nyq = 0.5 * fs\n",
        "    normal_cutoff = cutoff / nyq\n",
        "    b, a = butter(order, normal_cutoff, btype='low', analog=False)\n",
        "    return b, a\n",
        "\n",
        "def butter_lowpass_filter(data, cutoff, fs, order):\n",
        "    b, a = butter_lowpass(cutoff, fs, order=order)\n",
        "    y = lfilter(b, a, data)\n",
        "    return y\n",
        "def bandpasskub(data1,data2,data3):\n",
        "  cutoff = 200\n",
        "  fs = 51200\n",
        "  order = 5\n",
        "  A=butter_lowpass_filter(data1, cutoff, fs, order)\n",
        "  B=butter_lowpass_filter(data2, cutoff, fs, order)\n",
        "  C=butter_lowpass_filter(data3, cutoff, fs, order)\n",
        "  x=np.stack((np.array(A),np.array(B),np.array(C)))\n",
        "  return  x\n",
        "def fourier(data):\n",
        "  # sr = 2000/((1/51200)*12500)\n",
        "  sr = 51200\n",
        "  x = data\n",
        "  N = len(x)\n",
        "  X = abs(fft(x))\n",
        "  freq = fftfreq(X.size, 1/sr)\n",
        "\n",
        "  print(len(freq))\n",
        "  # X[(freq>200)] = -99\n",
        "  # id = X>=0\n",
        "  return X[:N//2] , freq[:N//2]\n",
        "  \n",
        "#t=(1/51200)*12500   ,  (1/sr)*N=t\n",
        "# 2000/t = sr\n",
        "# a,b = fourier(d[0])\n",
        "# plt.plot(b,a)\n",
        "# plt.xlim(0,2000)\n",
        "# plt.ylim(0,200)"
      ]
    },
    {
      "cell_type": "code",
      "execution_count": null,
      "metadata": {
        "colab": {
          "base_uri": "https://localhost:8080/",
          "height": 369
        },
        "id": "tTYG7IOSMTWM",
        "outputId": "fa0f8bfe-4e7f-44c6-f708-42473d408c1d"
      },
      "outputs": [],
      "source": [
        "a,b = fourier(d[0])\n",
        "# a=a[0:6250]\n",
        "# b=b[0:6250]\n",
        "# a = a[b>0]\n",
        "# id = b>0\n",
        "# b = b[id]\n",
        "fig = plt.figure(figsize=(10, 5))\n",
        "plt.plot(b,a )\n",
        "plt.xlabel('freq (hz)')\n",
        "plt.ylabel('Amplitude')\n",
        "\n",
        "# plt.xlim(0,300)\n",
        "# plt.ylim(0,200)"
      ]
    },
    {
      "cell_type": "code",
      "execution_count": null,
      "metadata": {
        "colab": {
          "base_uri": "https://localhost:8080/"
        },
        "id": "0ooFh4eu4Hli",
        "outputId": "2d2cce31-84d9-44f7-a8cb-5003e22a5f96"
      },
      "outputs": [],
      "source": [
        "from tqdm import tqdm\n",
        "x = []\n",
        "y = []\n",
        "z = []\n",
        "labels = []\n",
        "for i in tqdm(range(len(labelss.iloc[:14500]))):\n",
        "  d = pd.read_csv(path + labelss.iloc[i][0] , header = None)\n",
        "  if len(d[0])==len(d[1])==len(d[2]):\n",
        "    # d = np.stack( ( fourier(d[0]) , fourier(d[1]) , fourier(d[2]) ) ) \n",
        "    x.append(fourier(d[0]))\n",
        "    y.append(fourier(d[1]))\n",
        "    z.append(fourier(d[2]))\n",
        "    labels.append(labelss.iloc[i][1])"
      ]
    },
    {
      "cell_type": "code",
      "execution_count": null,
      "metadata": {
        "id": "AR8ptJO_O0EL"
      },
      "outputs": [],
      "source": [
        "x = np.load('/content/drive/MyDrive/final_test_6000/x_test.npy')\n",
        "y = np.load('/content/drive/MyDrive/final_test_6000/y_test.npy')\n",
        "z = np.load('/content/drive/MyDrive/final_test_6000/z_test.npy')\n",
        "# labels = np.load('/content/drive/MyDrive/plot_signal/labels1_fft2000.pkl.npy')"
      ]
    },
    {
      "cell_type": "code",
      "execution_count": null,
      "metadata": {
        "colab": {
          "base_uri": "https://localhost:8080/"
        },
        "id": "TDOBls9DY2B-",
        "outputId": "cf4ccd0d-6da0-42f7-f51f-736a94f7489c"
      },
      "outputs": [],
      "source": [
        "x.shape"
      ]
    },
    {
      "cell_type": "code",
      "execution_count": null,
      "metadata": {
        "colab": {
          "base_uri": "https://localhost:8080/"
        },
        "id": "2QPniWR6Am_4",
        "outputId": "5b28fcd7-cfeb-4f28-cc1e-4fb50468a139"
      },
      "outputs": [],
      "source": [
        "xyz = np.transpose(np.stack((x,y,z)) , [1,2,0])\n",
        "xyz.shape"
      ]
    },
    {
      "cell_type": "code",
      "execution_count": null,
      "metadata": {
        "id": "WGzCk5UXjmp_"
      },
      "outputs": [],
      "source": [
        "xyz=xyz[:,0:200,:]"
      ]
    },
    {
      "cell_type": "code",
      "execution_count": null,
      "metadata": {
        "colab": {
          "base_uri": "https://localhost:8080/"
        },
        "id": "y19lByTojrwr",
        "outputId": "64cb1361-da6d-4e21-fa57-6bdd973127ad"
      },
      "outputs": [],
      "source": [
        "xyz.shape"
      ]
    },
    {
      "cell_type": "markdown",
      "metadata": {
        "id": "jfehZj7JtGvT"
      },
      "source": [
        "# Load data"
      ]
    },
    {
      "cell_type": "code",
      "execution_count": null,
      "metadata": {
        "id": "YYEpwuugtJfR"
      },
      "outputs": [],
      "source": [
        "x1 = np.load('/content/drive/MyDrive/data_0-200hz/x600.npy')\n",
        "y1 = np.load('/content/drive/MyDrive/data_0-200hz/y600.npy')\n",
        "z1 = np.load('/content/drive/MyDrive/data_0-200hz/z600.npy')\n",
        "labels1 = np.load('/content/drive/MyDrive/data_0-200hz/labels.npy')"
      ]
    },
    {
      "cell_type": "code",
      "execution_count": null,
      "metadata": {
        "colab": {
          "base_uri": "https://localhost:8080/",
          "height": 35
        },
        "id": "1MI0KM7_WiXE",
        "outputId": "fede4f3a-5b5c-41fa-c9bb-7a24bd858d5d"
      },
      "outputs": [],
      "source": [
        "a = pd.read_csv('/content/sample_submission.csv')\n",
        "a.iloc[0]['filename']"
      ]
    },
    {
      "cell_type": "code",
      "execution_count": null,
      "metadata": {
        "id": "lj7kfFUzuACW"
      },
      "outputs": [],
      "source": [
        "x2 = np.load('/content/drive/MyDrive/data_0-200hz/x1200.npy')\n",
        "y2 = np.load('/content/drive/MyDrive/data_0-200hz/y1200.npy')\n",
        "z2 = np.load('/content/drive/MyDrive/data_0-200hz/z1200.npy')\n",
        "labels2 = np.load('/content/drive/MyDrive/data_0-200hz/labels.npy')"
      ]
    },
    {
      "cell_type": "code",
      "execution_count": null,
      "metadata": {
        "colab": {
          "base_uri": "https://localhost:8080/"
        },
        "id": "G_cH09uwxyiM",
        "outputId": "55fb81ac-edfa-4050-fd61-bb2277d35c9a"
      },
      "outputs": [],
      "source": [
        "# print(x1.shape,x2.shape)"
      ]
    },
    {
      "cell_type": "code",
      "execution_count": null,
      "metadata": {
        "colab": {
          "base_uri": "https://localhost:8080/"
        },
        "id": "IobIrXrrzayb",
        "outputId": "a9284876-4aad-4e85-a08d-25239714536d"
      },
      "outputs": [],
      "source": [
        "# xyz1 = np.transpose(np.stack((x1,y1,z1)) , [1,2,3,0] )\n",
        "# xyz1.shape"
      ]
    },
    {
      "cell_type": "code",
      "execution_count": null,
      "metadata": {
        "id": "wQ96xvKutRuP"
      },
      "outputs": [],
      "source": [
        "xyz1 = np.transpose(np.stack((x1,y1,z1)) , [1,2,0])\n",
        "xyz2 = np.transpose(np.stack((x2,y2,z2)) , [1,2,0])"
      ]
    },
    {
      "cell_type": "code",
      "execution_count": null,
      "metadata": {
        "colab": {
          "base_uri": "https://localhost:8080/"
        },
        "id": "JWkbLPc41qmz",
        "outputId": "70b225de-f5e5-46a7-80d9-641a23d27fe9"
      },
      "outputs": [],
      "source": [
        "xyz = np.concatenate((xyz1, xyz2), axis=0)\n",
        "xyz.shape"
      ]
    },
    {
      "cell_type": "code",
      "execution_count": null,
      "metadata": {
        "colab": {
          "base_uri": "https://localhost:8080/"
        },
        "id": "azIVzvMv1vvS",
        "outputId": "46a3db9b-8623-4419-8411-ffe1d53a43cb"
      },
      "outputs": [],
      "source": [
        "labels = np.concatenate((labels1, labels2), axis=0)\n",
        "labels.shape"
      ]
    },
    {
      "cell_type": "markdown",
      "metadata": {
        "id": "weMtbZN4YPwA"
      },
      "source": [
        "# Onehot (multitask learning)"
      ]
    },
    {
      "cell_type": "code",
      "execution_count": null,
      "metadata": {
        "id": "7VxHNciY4iQZ"
      },
      "outputs": [],
      "source": [
        "readme = ['Normal', 'UB_1P', 'UB_2P', 'UB_3P', 'MA_P16', 'MA_P20', 'MA_P46', 'MP_N13', 'MP_N16',\n",
        "          'MP_N18', 'MP_N24', 'MA_P16+UB_1P', 'MA_P16+UB_2P', 'MA_P16+UB_3P', 'MA_P20+UB_1P',\n",
        "          'MA_P20+UB_2P', 'MA_P20+UB_3P', 'MA_P46+UB_1P', 'MA_P46+UB_2P', 'MA_P46+UB_3P', 'MP_N13+UB_1P', 'MP_N13+UB_2P', 'MP_N13+UB_3P', \n",
        "          'MP_N16+UB_1P', 'MP_N16+UB_2P', 'MP_N16+UB_3P', 'MP_N18+UB_1P', 'MP_N18+UB_2P', 'MP_N18+UB_3P', 'Mixcase']\n",
        "UP = ['no', 'UB_1P', 'UB_2P', 'UB_3P']\n",
        "MA = ['no', 'MA_P16', 'MA_P20', 'MA_P46']\n",
        "MP = ['no', 'MP_N13', 'MP_N16','MP_N18', 'MP_N24']\n",
        "fail2index = { w :i for i, w in enumerate(readme)}\n",
        "index2fail = { i :w for i, w in enumerate(readme)}"
      ]
    },
    {
      "cell_type": "code",
      "execution_count": null,
      "metadata": {
        "colab": {
          "base_uri": "https://localhost:8080/"
        },
        "id": "nYYrj_o5-oZu",
        "outputId": "a1e244d8-8daa-4dc1-bb9c-53bc01705c18"
      },
      "outputs": [],
      "source": [
        "def onehotUP(label):\n",
        "  a = np.zeros(4)\n",
        "  a[label]=1\n",
        "  return a\n",
        "def onehotMA(label):\n",
        "  a = np.zeros(4)\n",
        "  i = (label%4) +1\n",
        "  a[i] = 1\n",
        "  return a\n",
        "def onehotMP(label):\n",
        "  a = np.zeros(5)\n",
        "  i = (label%7) +1\n",
        "  a[i] = 1\n",
        "  return a\n",
        "def makeonehot(fail):\n",
        "  fail = fail.split('+')\n",
        "  yup=[]\n",
        "  yma=[]\n",
        "  ymp=[]\n",
        "  for f in fail:\n",
        "    if f in fail2index:\n",
        "      if fail2index[f]>=1 and fail2index[f]<=3: yup = onehotUP(fail2index[f])\n",
        "      if fail2index[f]>=4 and fail2index[f]<=6: yma = onehotMA(fail2index[f])\n",
        "      if fail2index[f]>=7 and fail2index[f]<=10: ymp = onehotMP(fail2index[f])\n",
        "  if len(yup)==0: yup = np.array([1,0,0,0], dtype=\"float32\")\n",
        "  if len(yma)==0: yma = np.array([1,0,0,0], dtype=\"float32\")\n",
        "  if len(ymp)==0: ymp = np.array([1,0,0,0,0], dtype=\"float32\")\n",
        "  return yup, yma, ymp\n",
        "def decode_up(array): return UP[np.argmax(array)]\n",
        "def decode_ma(array): return MA[np.argmax(array)]\n",
        "def decode_mp(array): return MP[np.argmax(array)]\n",
        "fail = 'Normal'\n",
        "a,b,c = makeonehot(fail)\n",
        "print( a,b,c)\n",
        "print(decode_up(a),decode_ma(b),decode_mp(c))"
      ]
    },
    {
      "cell_type": "code",
      "execution_count": null,
      "metadata": {
        "id": "1pJNb_4_fF1k"
      },
      "outputs": [],
      "source": [
        "# Y = []\n",
        "# for i in y:\n",
        "#   a=np.zeros(30)\n",
        "#   a[i] = 1\n",
        "#   Y.append(a)\n",
        "# y = np.array(Y)\n",
        "# # word2index = { w :i + 2 for i, w in enumerate(list(total_word))}"
      ]
    },
    {
      "cell_type": "code",
      "execution_count": null,
      "metadata": {
        "id": "ECUh7ITfOcOT"
      },
      "outputs": [],
      "source": [
        "import numpy as np\n",
        "from sklearn.model_selection import train_test_split\n",
        "x_train, x_test, y_train, y_test = train_test_split( xyz , labels, test_size=0.15)"
      ]
    },
    {
      "cell_type": "code",
      "execution_count": null,
      "metadata": {
        "id": "jNDaC9OY5peI"
      },
      "outputs": [],
      "source": [
        "yUP_train=[]\n",
        "yMA_train=[]\n",
        "yMP_train=[]\n",
        "for label in y_train:\n",
        "  fail = index2fail[label]\n",
        "  yup, yma, ymp = makeonehot(fail)\n",
        "  yUP_train.append(yup)\n",
        "  yMA_train.append(yma)\n",
        "  yMP_train.append(ymp)\n",
        "yUP_test=[]\n",
        "yMA_test=[]\n",
        "yMP_test=[]\n",
        "for label in y_test:\n",
        "  fail = index2fail[label]\n",
        "  yup, yma, ymp = makeonehot(fail)\n",
        "  yUP_test.append(yup)\n",
        "  yMA_test.append(yma)\n",
        "  yMP_test.append(ymp)"
      ]
    },
    {
      "cell_type": "markdown",
      "metadata": {
        "id": "VBhmam9bxqgZ"
      },
      "source": [
        "# Auto encoder conv1D"
      ]
    },
    {
      "cell_type": "code",
      "execution_count": null,
      "metadata": {
        "id": "nL2KC207HhfH"
      },
      "outputs": [],
      "source": [
        "xyz1 = xyz[10:,:,:]"
      ]
    },
    {
      "cell_type": "code",
      "execution_count": null,
      "metadata": {
        "colab": {
          "base_uri": "https://localhost:8080/"
        },
        "id": "OOupZ6urzHLT",
        "outputId": "5a1d95c4-6d1f-4901-99ef-ef634d2cdf7f"
      },
      "outputs": [],
      "source": [
        "import tensorflow as tf\n",
        "from tensorflow.keras import layers , models\n",
        "from tensorflow.keras.layers import Flatten, Dense, Conv1D, MaxPool1D, Dropout, BatchNormalization, Conv1DTranspose\n",
        "from tensorflow.keras.constraints import max_norm\n",
        "batch_size = 150\n",
        "no_epochs = 50\n",
        "validation_split = 0.2\n",
        "verbosity = 1\n",
        "max_norm_value = 2.0\n",
        "input_shape = (6299,3)\n",
        "input_layer = layers.Input(input_shape)\n",
        "con1d = Conv1D(128, kernel_size=3, kernel_constraint=max_norm(max_norm_value), activation='relu', kernel_initializer='he_uniform')(input_layer)\n",
        "con1d = Conv1D(64, kernel_size=3, kernel_constraint=max_norm(max_norm_value), activation='relu', kernel_initializer='he_uniform')(con1d)\n",
        "# con1d3 = Conv1D(64, kernel_size=3, kernel_constraint=max_norm(max_norm_value), activation='relu', kernel_initializer='he_uniform')(con1d2)\n",
        "\n",
        "# con1d4 = Conv1DTranspose(64, kernel_size=3, kernel_constraint=max_norm(max_norm_value), activation='relu', kernel_initializer='he_uniform')(con1d3)\n",
        "con1d = Conv1DTranspose(64, kernel_size=3, kernel_constraint=max_norm(max_norm_value), activation='relu', kernel_initializer='he_uniform')(con1d)\n",
        "con1d = Conv1DTranspose(128, kernel_size=3, kernel_constraint=max_norm(max_norm_value), activation='relu', kernel_initializer='he_uniform')(con1d)\n",
        "\n",
        "output = Conv1D(3, kernel_size=3, kernel_constraint=max_norm(max_norm_value), activation='sigmoid', padding='same')(con1d)\n",
        "auto_model = models.Model(inputs=input_layer , outputs= output)\n",
        "auto_model.summary()"
      ]
    },
    {
      "cell_type": "code",
      "execution_count": null,
      "metadata": {
        "colab": {
          "base_uri": "https://localhost:8080/",
          "height": 432
        },
        "id": "Dpx-vUQ_6f-r",
        "outputId": "d5adbf92-b465-40c9-bc4e-f2c951bac782"
      },
      "outputs": [],
      "source": [
        "auto_model.compile(optimizer='adam', loss='mse') #loss='binary_crossentropy'\n",
        "auto_model.fit( xyz1 , xyz1 ,\n",
        "                epochs=no_epochs,\n",
        "                batch_size=batch_size,\n",
        "                validation_split=validation_split)"
      ]
    },
    {
      "cell_type": "code",
      "execution_count": null,
      "metadata": {
        "colab": {
          "base_uri": "https://localhost:8080/"
        },
        "id": "qJBlpr6xGm-l",
        "outputId": "538398fa-5e68-4299-80f8-0443a947c262"
      },
      "outputs": [],
      "source": [
        "pred = auto_model.predict(xyz[0:5])\n",
        "pred.shape"
      ]
    },
    {
      "cell_type": "code",
      "execution_count": null,
      "metadata": {
        "colab": {
          "base_uri": "https://localhost:8080/"
        },
        "id": "DItok1hvG5v1",
        "outputId": "354a42d7-23e1-4164-c9bb-1e074678fee9"
      },
      "outputs": [],
      "source": [
        "xyz[0][:,0]"
      ]
    },
    {
      "cell_type": "code",
      "execution_count": null,
      "metadata": {
        "colab": {
          "base_uri": "https://localhost:8080/"
        },
        "id": "otCFrv1lHM4E",
        "outputId": "4a939145-3e74-45a7-e679-4e064e81502d"
      },
      "outputs": [],
      "source": [
        "pred[0][:,0]"
      ]
    },
    {
      "cell_type": "code",
      "execution_count": null,
      "metadata": {
        "colab": {
          "base_uri": "https://localhost:8080/",
          "height": 282
        },
        "id": "JAL6CwqiGflA",
        "outputId": "618089e8-ada4-40a5-e1bb-84559587e875"
      },
      "outputs": [],
      "source": [
        "X = xyz[0][:,0]\n",
        "sr = 51200\n",
        "freq = fftfreq(X.size, 1/sr)\n",
        "plt.subplot(2,1,1)\n",
        "plt.plot(freq,X)\n",
        "# plt.xlim(0,200)\n",
        "# plt.ylim(0,200)\n",
        "\n",
        "X = pred[0][:,0]\n",
        "sr = 51200\n",
        "freq = fftfreq(X.size, 1/sr)\n",
        "plt.subplot(2,1,2)\n",
        "plt.plot(freq,X)\n",
        "plt.xlim(0,200)\n",
        "plt.ylim(0,200)"
      ]
    },
    {
      "cell_type": "code",
      "execution_count": null,
      "metadata": {
        "id": "qcXfv6NzDHy_"
      },
      "outputs": [],
      "source": [
        "auto_model.save('/content/drive/MyDrive/model_signal/autoencoder1.h5')"
      ]
    },
    {
      "cell_type": "markdown",
      "metadata": {
        "id": "gKlyvknc54fm"
      },
      "source": [
        "# CNN1D multitask"
      ]
    },
    {
      "cell_type": "code",
      "execution_count": null,
      "metadata": {
        "colab": {
          "base_uri": "https://localhost:8080/"
        },
        "id": "V1DdsrocZ-xs",
        "outputId": "a3c12de3-8615-47c8-9857-9bc373ad0e6d"
      },
      "outputs": [],
      "source": [
        "import tensorflow as tf\n",
        "model = tf.keras.models.load_model('/content/drive/MyDrive/model_signal/conv1d_600_1haft.h5')\n",
        "model.summary()"
      ]
    },
    {
      "cell_type": "code",
      "execution_count": null,
      "metadata": {
        "id": "5CxAEBn155xm"
      },
      "outputs": [],
      "source": [
        "#CNN\n",
        "import tensorflow as tf\n",
        "from tensorflow.keras import layers , models\n",
        "from tensorflow.keras.layers import Flatten, Dense, Conv1D, MaxPool1D, Dropout, BatchNormalization\n",
        "\n",
        "input_shape = (6250,3)\n",
        "input_layer = layers.Input(input_shape)\n",
        "\n",
        "conv1D1 = Conv1D(filters=32, kernel_size=(3,), padding='same', activation=tf.keras.layers.LeakyReLU(alpha=0.001))(input_layer)\n",
        "batch1 = BatchNormalization()(conv1D1)\n",
        "\n",
        "conv1D2 = Conv1D(filters=32, kernel_size=(3,), padding='same', activation=tf.keras.layers.LeakyReLU(alpha=0.001))(batch1)\n",
        "batch2 = BatchNormalization()(conv1D2)\n",
        "\n",
        "conv1D3 = Conv1D(filters=16, kernel_size=(3,), padding='same', activation=tf.keras.layers.LeakyReLU(alpha=0.001))(batch2)\n",
        "batch3 = BatchNormalization()(conv1D3)\n",
        "\n",
        "conv1D4 = Conv1D(filters=8, kernel_size=(3,), padding='same', activation=tf.keras.layers.LeakyReLU(alpha=0.001))(batch3)\n",
        "batch4 = BatchNormalization()(conv1D4)\n",
        "\n",
        "pool = MaxPool1D(pool_size=(3,), strides=2, padding='same')(batch4)\n",
        "drop = Dropout(0.5)(pool)\n",
        "flat = Flatten()(pool)\n",
        "\n",
        "dense1 = Dense(units = 128, activation=tf.keras.layers.LeakyReLU(alpha=0.001))(flat)\n",
        "dense2 = Dense(units = 64, activation=tf.keras.layers.LeakyReLU(alpha=0.001))(dense1)\n",
        "dense3 = Dense(units = 32, activation=tf.keras.layers.LeakyReLU(alpha=0.001))(dense2)\n",
        "\n",
        "outputUB = Dense(units = len(UP), activation='softmax')(dense3)\n",
        "outputMA = Dense(units = len(MA), activation='softmax')(dense3)\n",
        "outputMP = Dense(units = len(MP), activation='softmax')(dense3)\n",
        "model = models.Model(inputs=input_layer, outputs=[outputUB , outputMA , outputMP])"
      ]
    },
    {
      "cell_type": "code",
      "execution_count": null,
      "metadata": {
        "colab": {
          "base_uri": "https://localhost:8080/"
        },
        "id": "7cV-Umxq8NFV",
        "outputId": "c069b9fe-3739-4d91-c65e-392a5e684b81"
      },
      "outputs": [],
      "source": [
        "loss = tf.keras.losses.categorical_crossentropy\n",
        "optimizer = tf.keras.optimizers.Adam(lr=1e-5)\n",
        "model.compile(optimizer=optimizer, loss = loss, metrics=['accuracy'])\n",
        "model.summary()"
      ]
    },
    {
      "cell_type": "code",
      "execution_count": null,
      "metadata": {
        "colab": {
          "base_uri": "https://localhost:8080/"
        },
        "id": "7TfuyscC5_D6",
        "outputId": "8ccb71be-e753-44ce-f01e-3b99c5a7e51b"
      },
      "outputs": [],
      "source": [
        "from tensorflow.keras.callbacks import ModelCheckpoint, EarlyStopping\n",
        "import os\n",
        "\n",
        "modelPath = '/content/model{epoch:02d}.hdf5'\n",
        "# checkpoint = ModelCheckpoint( # set model saving checkpoints\n",
        "#     modelPath, # set path to save model weights\n",
        "#     monitor='val_loss', # set monitor metrics\n",
        "#     verbose=1, # set training verbosity\n",
        "#     save_best_only=True, # set if want to save only best weights\n",
        "#     save_weights_only=False, # set if you want to save only model weights\n",
        "#     mode='auto', # set if save min or max in metrics\n",
        "#     period=1 # interval between checkpoints\n",
        "#     )\n",
        "earlystopping = EarlyStopping(\n",
        "    monitor='val_loss', # set monitor metrics\n",
        "    min_delta=0.001, # set minimum metrics delta\n",
        "    patience=8, # number of epochs to stop training\n",
        "    restore_best_weights=True, # set if use best weights or last weights\n",
        "    )\n",
        "callbacksList = [earlystopping] # build callbacks list\n",
        "\n",
        "model_history = model.fit( x_train , [np.array(yUP_train), np.array(yMA_train), np.array(yMP_train)], epochs=100, \n",
        "                  batch_size = 64, \n",
        "                validation_data = ( x_test, [np.array(yUP_test), np.array(yMA_test), np.array(yMP_test)] ), \n",
        "                callbacks=callbacksList)"
      ]
    },
    {
      "cell_type": "code",
      "execution_count": null,
      "metadata": {
        "id": "tTGrJFNBXNPy"
      },
      "outputs": [],
      "source": [
        "model.save('/content/drive/MyDrive/model_signal/conv1d_all_shape49.h5')"
      ]
    },
    {
      "cell_type": "markdown",
      "metadata": {
        "id": "R1JsH6BiFVdE"
      },
      "source": [
        "# Submit"
      ]
    },
    {
      "cell_type": "code",
      "execution_count": null,
      "metadata": {
        "colab": {
          "base_uri": "https://localhost:8080/",
          "height": 423
        },
        "id": "FGs3ot7IS85i",
        "outputId": "28038364-384f-48fc-efbe-bced80a4a61d"
      },
      "outputs": [],
      "source": [
        "sample_submission = pd.read_csv('/content/drive/MyDrive/sample_submission.csv')\n",
        "sample_submission"
      ]
    },
    {
      "cell_type": "code",
      "execution_count": null,
      "metadata": {
        "colab": {
          "base_uri": "https://localhost:8080/"
        },
        "id": "f1cDmjl7DiiT",
        "outputId": "759cb8c9-5bab-47f6-a725-cbeb49e02bf9"
      },
      "outputs": [],
      "source": [
        "# from tqdm import tqdm\n",
        "# pathtest = '/content/drive/MyDrive/maintain/test_data/'\n",
        "# x_test = []\n",
        "# y_test = []\n",
        "# z_test = []\n",
        "# labels = []\n",
        "# for i in tqdm(range(len(sample_submission.iloc[:]))):\n",
        "#   d = pd.read_csv(pathtest + sample_submission.iloc[i]['filename'] , header = None)\n",
        "#   if len(d[0])==len(d[1])==len(d[2]):\n",
        "#     x.append(fourier(d[0]))\n",
        "#     y.append(fourier(d[1]))\n",
        "#     z.append(fourier(d[2]))"
      ]
    },
    {
      "cell_type": "code",
      "execution_count": null,
      "metadata": {
        "id": "290oJrawn9RY"
      },
      "outputs": [],
      "source": [
        "# np.save('/content/drive/MyDrive/data_signal/x1_fft2000.pkl', x)\n",
        "# np.save('/content/drive/MyDrive/data_signal/y1_fft2000.pkl', y)\n",
        "# np.save('/content/drive/MyDrive/data_signal/z1_fft2000.pkl', z)"
      ]
    },
    {
      "cell_type": "code",
      "execution_count": null,
      "metadata": {
        "id": "VIHhp30h5eTA"
      },
      "outputs": [],
      "source": [
        "import tensorflow as tf\n",
        "model = tf.keras.models.load_model('/content/drive/MyDrive/model_signal/conv1d_600_1haft.h5')\n",
        "model.summary()"
      ]
    },
    {
      "cell_type": "code",
      "execution_count": null,
      "metadata": {
        "id": "-KfHoMg_5YQQ"
      },
      "outputs": [],
      "source": [
        "x_test = np.load('/content/drive/MyDrive/x_test.npy')\n",
        "y_test = np.load('/content/drive/MyDrive/y_test.npy')\n",
        "z_test = np.load('/content/drive/MyDrive/z_test.npy')"
      ]
    },
    {
      "cell_type": "code",
      "execution_count": null,
      "metadata": {
        "colab": {
          "base_uri": "https://localhost:8080/"
        },
        "id": "AFUMmXCd5gjc",
        "outputId": "4a1e35a6-baac-4595-e50b-c6d9e4ed49a8"
      },
      "outputs": [],
      "source": [
        "xyz_test = np.transpose(np.stack((x_test,y_test,z_test)) , [1,2,0])\n",
        "xyz_test.shape"
      ]
    },
    {
      "cell_type": "code",
      "execution_count": null,
      "metadata": {
        "colab": {
          "base_uri": "https://localhost:8080/"
        },
        "id": "ZuvhZsbGV3hZ",
        "outputId": "ffa703a3-c0c1-49cb-e1dc-33c01d8e62e7"
      },
      "outputs": [],
      "source": [
        "pred = model.predict(xyz_test)\n",
        "pred[0].shape"
      ]
    },
    {
      "cell_type": "code",
      "execution_count": null,
      "metadata": {
        "colab": {
          "base_uri": "https://localhost:8080/"
        },
        "id": "j1UIMPlHvEtX",
        "outputId": "d2a2fa98-a53f-47f8-aa31-af9bc455b556"
      },
      "outputs": [],
      "source": [
        "from tqdm import tqdm\n",
        "predict = []\n",
        "for i in tqdm(range(1800)):\n",
        "  a,b,c = pred[0][i], pred[1][i], pred[2][i] \n",
        "  # print(a,b,c)\n",
        "  pr = []\n",
        "  p = [decode_up(a),decode_ma(b),decode_mp(c)]\n",
        "  # print(p)\n",
        "  for j in p:\n",
        "    if j!='no': pr.append(j)\n",
        "  if len(pr)>0 and len(pr)<3:\n",
        "    pr = '+'.join(sorted(pr))\n",
        "  elif len(pr)==3:\n",
        "    pr = 'Mixcase'\n",
        "  else:\n",
        "    pr = 'Normal'\n",
        "  if pr in fail2index: predict.append(fail2index[pr])\n",
        "  else: predict.append(fail2index['Normal'])\n",
        "print(predict)"
      ]
    },
    {
      "cell_type": "code",
      "execution_count": null,
      "metadata": {
        "id": "i5IX5pzXzAZK"
      },
      "outputs": [],
      "source": [
        "df = pd.DataFrame({ 'filename':sample_submission['filename'], 'code':predict })\n",
        "df.to_csv('/content/submit.csv')"
      ]
    },
    {
      "cell_type": "code",
      "execution_count": null,
      "metadata": {
        "id": "VTSf87uB54-A"
      },
      "outputs": [],
      "source": []
    }
  ],
  "metadata": {
    "colab": {
      "collapsed_sections": [],
      "name": "Signal_Maintenance.ipynb",
      "provenance": []
    },
    "kernelspec": {
      "display_name": "Python 3",
      "name": "python3"
    },
    "language_info": {
      "name": "python"
    }
  },
  "nbformat": 4,
  "nbformat_minor": 0
}
